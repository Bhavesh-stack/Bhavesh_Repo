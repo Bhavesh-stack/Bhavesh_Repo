{
 "cells": [
  {
   "cell_type": "markdown",
   "id": "2b5f9b97-f3d8-4279-a62d-ea2876d4628d",
   "metadata": {},
   "source": [
    "# Data Science Tools and Ecosystem\n"
   ]
  },
  {
   "cell_type": "markdown",
   "id": "1280418f-039d-4b8d-94f1-31dcdf9d54f9",
   "metadata": {},
   "source": [
    "In this notebook, Data Science Tools and Ecosystem are summarized.\n"
   ]
  },
  {
   "cell_type": "markdown",
   "id": "fa023954-1349-46bf-bb1b-fd70f962997a",
   "metadata": {},
   "source": [
    "Some of the popular languages that Data Scientists use are:\n",
    "\n",
    "1. Python\n",
    "2. R\n",
    "3. Julia\n"
   ]
  },
  {
   "cell_type": "markdown",
   "id": "efff34ef-5f98-4373-a7a5-ddf11bbae014",
   "metadata": {},
   "source": [
    "Some of the commonly used libraries used by Data Scientists include:\n",
    "\n",
    "1. NumPy\n",
    "2. pandas\n",
    "3. Matplotlib\n"
   ]
  },
  {
   "cell_type": "markdown",
   "id": "80113b18-e9f9-4e49-baf4-a4092a21d287",
   "metadata": {},
   "source": [
    "| Data Science Tools |\n",
    "|--------------------|\n",
    "| Jupyter Notebook   |\n",
    "| VS Code            |\n",
    "| PyCharm            |\n"
   ]
  },
  {
   "cell_type": "markdown",
   "id": "35c592a8-9eee-400d-a9c9-daad562680cb",
   "metadata": {},
   "source": [
    "### Below are a few examples of evaluating arithmetic expressions in Python.\n"
   ]
  },
  {
   "cell_type": "code",
   "execution_count": 1,
   "id": "40d47ee4-199c-4252-b345-77b8d050fd2d",
   "metadata": {
    "tags": []
   },
   "outputs": [
    {
     "data": {
      "text/plain": [
       "17"
      ]
     },
     "execution_count": 1,
     "metadata": {},
     "output_type": "execute_result"
    }
   ],
   "source": [
    "# This is a simple arithmetic expression to multiply then add integers.\n",
    "result = (3 * 4) + 5\n",
    "result\n"
   ]
  },
  {
   "cell_type": "code",
   "execution_count": 2,
   "id": "9d375bea-5113-4b1a-a30b-540fd6309f7a",
   "metadata": {
    "tags": []
   },
   "outputs": [
    {
     "data": {
      "text/plain": [
       "3.3333333333333335"
      ]
     },
     "execution_count": 2,
     "metadata": {},
     "output_type": "execute_result"
    }
   ],
   "source": [
    "# This will convert 200 minutes to hours by dividing by 60.\n",
    "minutes = 200\n",
    "hours = minutes / 60\n",
    "hours\n"
   ]
  },
  {
   "cell_type": "markdown",
   "id": "b8beefde-1997-4c37-b42c-33dc7af3d835",
   "metadata": {},
   "source": [
    "**Objectives:**\n",
    "\n",
    "- List popular languages for Data Science.\n",
    "- Mention commonly used libraries in Data Science.\n",
    "- Introduce key Data Science tools.\n"
   ]
  },
  {
   "cell_type": "markdown",
   "id": "dc060153-e909-43b4-bfd0-4705ccb08b42",
   "metadata": {},
   "source": [
    "## Author\n",
    "Bhavesh Mahajan\n"
   ]
  },
  {
   "cell_type": "code",
   "execution_count": null,
   "id": "1603d52c-0800-4427-825a-12e992f05d72",
   "metadata": {},
   "outputs": [],
   "source": []
  }
 ],
 "metadata": {
  "kernelspec": {
   "display_name": "Python",
   "language": "python",
   "name": "conda-env-python-py"
  },
  "language_info": {
   "codemirror_mode": {
    "name": "ipython",
    "version": 3
   },
   "file_extension": ".py",
   "mimetype": "text/x-python",
   "name": "python",
   "nbconvert_exporter": "python",
   "pygments_lexer": "ipython3",
   "version": "3.7.12"
  }
 },
 "nbformat": 4,
 "nbformat_minor": 5
}
